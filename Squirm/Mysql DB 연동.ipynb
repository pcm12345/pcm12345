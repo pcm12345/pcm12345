{
 "cells": [
  {
   "cell_type": "code",
   "execution_count": 7,
   "id": "ab450a56",
   "metadata": {
    "collapsed": true
   },
   "outputs": [
    {
     "name": "stdout",
     "output_type": "stream",
     "text": [
      "Requirement already satisfied: pymysql in c:\\users\\smhrd\\anaconda3\\lib\\site-packages (1.0.2)\n"
     ]
    }
   ],
   "source": [
    "!pip install pymysql"
   ]
  },
  {
   "cell_type": "code",
   "execution_count": 2,
   "id": "ff144c52",
   "metadata": {},
   "outputs": [],
   "source": [
    "import pymysql"
   ]
  },
  {
   "cell_type": "code",
   "execution_count": 3,
   "id": "15ce223b",
   "metadata": {},
   "outputs": [],
   "source": [
    "# 전역변수 선언부\n",
    "conn, cur = None, None\n",
    "sql=\"\""
   ]
  },
  {
   "cell_type": "code",
   "execution_count": 4,
   "id": "2f2d3682",
   "metadata": {},
   "outputs": [],
   "source": [
    "# 메인코드\n",
    "\n",
    "conn = pymysql.connect(\n",
    "    host='project-db-stu.ddns.net',\n",
    "    port=3307,\n",
    "    user='echo',\n",
    "    password='119',\n",
    "    db='echo',\n",
    "    charset='utf8')\n",
    "\n"
   ]
  },
  {
   "cell_type": "code",
   "execution_count": 5,
   "id": "0accb290",
   "metadata": {},
   "outputs": [],
   "source": [
    "cursor = conn.cursor()"
   ]
  },
  {
   "cell_type": "code",
   "execution_count": 7,
   "id": "e219c366",
   "metadata": {},
   "outputs": [],
   "source": [
    "sql = \"select * from echo.test1\" # 조회\n",
    "# 삽입 sql = \"INSERT INTO test1 (이름, 나이, 국적) VALUE ('영준', 28, '스페인')\"\n",
    "# cursor.execute(query)\n",
    "# conn.commit()"
   ]
  },
  {
   "cell_type": "code",
   "execution_count": 8,
   "id": "07a3f77a",
   "metadata": {
    "scrolled": true
   },
   "outputs": [
    {
     "data": {
      "text/plain": [
       "7"
      ]
     },
     "execution_count": 8,
     "metadata": {},
     "output_type": "execute_result"
    }
   ],
   "source": [
    "# 질의문이 담긴 변수를 커서의 실행 메소드에 매개 변수로 전달합니다.\n",
    "# 다음 라인에 바로 건수가 출력됩니다.\n",
    "cursor.execute(sql)"
   ]
  },
  {
   "cell_type": "code",
   "execution_count": 9,
   "id": "31fbb07b",
   "metadata": {},
   "outputs": [],
   "source": [
    "#커서로부터 모든 행을 가져와서 rows 변수에 저장\n",
    "result = cursor.fetchall()\n",
    "\n",
    "# fetchall() 모든 데이터를 한 번에 가져올 때 사용\n",
    "# fetchone() 한 번 호출에 하나의 행만 가져올 때 사용\n",
    "# fetchmany(n) n개만큼의 데이터를 가져올 때 사용"
   ]
  },
  {
   "cell_type": "code",
   "execution_count": 11,
   "id": "515d5808",
   "metadata": {},
   "outputs": [
    {
     "name": "stdout",
     "output_type": "stream",
     "text": [
      "(('소현', 25, '영국'), ('시현', 24, '독일'), ('영준', 28, '스페인'), ('정미', 28, '프랑스'), ('지수', 22, '이탈리아'), ('창민', 29, '미국'), ('한글', 31, '태국'))\n"
     ]
    },
    {
     "data": {
      "text/plain": [
       "25"
      ]
     },
     "execution_count": 11,
     "metadata": {},
     "output_type": "execute_result"
    }
   ],
   "source": [
    "print(result)\n",
    "result[0][1]"
   ]
  },
  {
   "cell_type": "code",
   "execution_count": 12,
   "id": "daa20882",
   "metadata": {},
   "outputs": [],
   "source": [
    "conn.close()"
   ]
  },
  {
   "cell_type": "code",
   "execution_count": 80,
   "id": "bfb7395a",
   "metadata": {},
   "outputs": [
    {
     "data": {
      "text/html": [
       "<div>\n",
       "<style scoped>\n",
       "    .dataframe tbody tr th:only-of-type {\n",
       "        vertical-align: middle;\n",
       "    }\n",
       "\n",
       "    .dataframe tbody tr th {\n",
       "        vertical-align: top;\n",
       "    }\n",
       "\n",
       "    .dataframe thead th {\n",
       "        text-align: right;\n",
       "    }\n",
       "</style>\n",
       "<table border=\"1\" class=\"dataframe\">\n",
       "  <thead>\n",
       "    <tr style=\"text-align: right;\">\n",
       "      <th></th>\n",
       "      <th>0</th>\n",
       "      <th>1</th>\n",
       "      <th>2</th>\n",
       "    </tr>\n",
       "  </thead>\n",
       "  <tbody>\n",
       "    <tr>\n",
       "      <th>0</th>\n",
       "      <td>소현</td>\n",
       "      <td>25</td>\n",
       "      <td>영국</td>\n",
       "    </tr>\n",
       "    <tr>\n",
       "      <th>1</th>\n",
       "      <td>시현</td>\n",
       "      <td>24</td>\n",
       "      <td>독일</td>\n",
       "    </tr>\n",
       "    <tr>\n",
       "      <th>2</th>\n",
       "      <td>영준</td>\n",
       "      <td>28</td>\n",
       "      <td>스페인</td>\n",
       "    </tr>\n",
       "    <tr>\n",
       "      <th>3</th>\n",
       "      <td>정미</td>\n",
       "      <td>28</td>\n",
       "      <td>프랑스</td>\n",
       "    </tr>\n",
       "    <tr>\n",
       "      <th>4</th>\n",
       "      <td>지수</td>\n",
       "      <td>22</td>\n",
       "      <td>이탈리아</td>\n",
       "    </tr>\n",
       "    <tr>\n",
       "      <th>5</th>\n",
       "      <td>창민</td>\n",
       "      <td>29</td>\n",
       "      <td>미국</td>\n",
       "    </tr>\n",
       "    <tr>\n",
       "      <th>6</th>\n",
       "      <td>한글</td>\n",
       "      <td>31</td>\n",
       "      <td>태국</td>\n",
       "    </tr>\n",
       "  </tbody>\n",
       "</table>\n",
       "</div>"
      ],
      "text/plain": [
       "    0   1     2\n",
       "0  소현  25    영국\n",
       "1  시현  24    독일\n",
       "2  영준  28   스페인\n",
       "3  정미  28   프랑스\n",
       "4  지수  22  이탈리아\n",
       "5  창민  29    미국\n",
       "6  한글  31    태국"
      ]
     },
     "execution_count": 80,
     "metadata": {},
     "output_type": "execute_result"
    }
   ],
   "source": [
    "import pandas as pd\n",
    "\n",
    "result = pd.DataFrame(result)\n",
    "result"
   ]
  },
  {
   "cell_type": "code",
   "execution_count": null,
   "id": "6da52aae",
   "metadata": {},
   "outputs": [],
   "source": [
    "#\n",
    "data = ('ramen', 1)\n",
    "\n",
    "# SELECT \n",
    "sql = \"SELECT * FROM `food` WHERE name = %s AND id = %s;\"\n",
    "cursor.execute(sql, data)\n",
    "\n",
    "# DELETE\n",
    "sql = \"DELETE FROM `food` WHERE `name` = %s AND `id` = %s;\"\n",
    "cursor.execute(sql, data)\n",
    "db.commit()"
   ]
  }
 ],
 "metadata": {
  "kernelspec": {
   "display_name": "Python 3",
   "language": "python",
   "name": "python3"
  },
  "language_info": {
   "codemirror_mode": {
    "name": "ipython",
    "version": 3
   },
   "file_extension": ".py",
   "mimetype": "text/x-python",
   "name": "python",
   "nbconvert_exporter": "python",
   "pygments_lexer": "ipython3",
   "version": "3.8.8"
  },
  "toc": {
   "base_numbering": 1,
   "nav_menu": {},
   "number_sections": true,
   "sideBar": true,
   "skip_h1_title": false,
   "title_cell": "Table of Contents",
   "title_sidebar": "Contents",
   "toc_cell": false,
   "toc_position": {},
   "toc_section_display": true,
   "toc_window_display": false
  }
 },
 "nbformat": 4,
 "nbformat_minor": 5
}
