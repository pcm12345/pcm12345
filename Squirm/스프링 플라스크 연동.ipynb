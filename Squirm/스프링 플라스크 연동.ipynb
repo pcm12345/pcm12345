{
 "cells": [
  {
   "cell_type": "code",
   "execution_count": 3,
   "id": "32c4d287",
   "metadata": {},
   "outputs": [],
   "source": [
    "from flask import Flask \n",
    "import urllib.request\n",
    "from flask import request, redirect\n",
    "import pymysql"
   ]
  },
  {
   "cell_type": "code",
   "execution_count": null,
   "id": "9add482e",
   "metadata": {},
   "outputs": [
    {
     "name": "stdout",
     "output_type": "stream",
     "text": [
      " * Serving Flask app \"__main__\" (lazy loading)\n",
      " * Environment: production\n",
      "   WARNING: This is a development server. Do not use it in a production deployment.\n",
      "   Use a production WSGI server instead.\n",
      " * Debug mode: off\n"
     ]
    },
    {
     "name": "stderr",
     "output_type": "stream",
     "text": [
      " * Running on http://220.80.33.113:5005/ (Press CTRL+C to quit)\n"
     ]
    }
   ],
   "source": [
    "app = Flask(__name__)\n",
    "\n",
    "# 전역변수 선언부\n",
    "conn, cur = None, None\n",
    "sql=\"\"\n",
    "\n",
    "\n",
    "\n",
    "@app.route('/test', methods=['POST'])\n",
    "def index():\n",
    "       \n",
    "\n",
    "    conn = pymysql.connect(\n",
    "        \n",
    "        host='project-db-stu.ddns.net',\n",
    "        port=3307,\n",
    "        user='echo',\n",
    "        password='119',\n",
    "        db='echo',\n",
    "        charset='utf8')\n",
    "\n",
    "        cursor = conn.cursor()\n",
    "\n",
    "        #sql = \"select * from echo.test1\" # 조회\n",
    "\n",
    "        sql = \"INSERT INTO test1 (이름, 나이, 국적) VALUE ('123', 28, '스페인')\"\n",
    "\n",
    "        result = cursor.fetchall()\n",
    "\n",
    "        conn.close()\n",
    "        \n",
    "        \n",
    "    url = 'http://localhost:9253/MyProject/FlaskReceiveController?result={}'.format(data)\n",
    "    return redirect(url)\n",
    "\n",
    "if __name__ == '__main__':\n",
    "    app.run(host='220.80.33.113', port='5005')\n",
    "    #app.run(host='localhost', port='5005')"
   ]
  },
  {
   "cell_type": "code",
   "execution_count": null,
   "id": "565a11ce",
   "metadata": {},
   "outputs": [],
   "source": []
  }
 ],
 "metadata": {
  "kernelspec": {
   "display_name": "Python 3",
   "language": "python",
   "name": "python3"
  },
  "language_info": {
   "codemirror_mode": {
    "name": "ipython",
    "version": 3
   },
   "file_extension": ".py",
   "mimetype": "text/x-python",
   "name": "python",
   "nbconvert_exporter": "python",
   "pygments_lexer": "ipython3",
   "version": "3.8.8"
  },
  "toc": {
   "base_numbering": 1,
   "nav_menu": {},
   "number_sections": true,
   "sideBar": true,
   "skip_h1_title": false,
   "title_cell": "Table of Contents",
   "title_sidebar": "Contents",
   "toc_cell": false,
   "toc_position": {},
   "toc_section_display": true,
   "toc_window_display": false
  }
 },
 "nbformat": 4,
 "nbformat_minor": 5
}
